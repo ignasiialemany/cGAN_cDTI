{
 "cells": [
  {
   "cell_type": "code",
   "execution_count": 1,
   "metadata": {},
   "outputs": [
    {
     "name": "stdout",
     "output_type": "stream",
     "text": [
      "Shape of data:  (1000, 2, 512, 512)\n"
     ]
    }
   ],
   "source": [
    "import numpy as np\n",
    "SEED = 42\n",
    "np.random.seed(SEED)\n",
    "data = np.load(\"combined_patches.npy\",allow_pickle=True)\n",
    "data = np.array(data)\n",
    "data = np.random.permutation(data)\n",
    "print(\"Shape of data: \", data.shape)"
   ]
  },
  {
   "cell_type": "code",
   "execution_count": 2,
   "metadata": {},
   "outputs": [
    {
     "name": "stdout",
     "output_type": "stream",
     "text": [
      "Shape of train_data:  (800, 2, 512, 512)\n",
      "Shape of val_data:  (150, 2, 512, 512)\n",
      "Shape of test_data:  (50, 2, 512, 512)\n"
     ]
    }
   ],
   "source": [
    "train_size, val_size = 800, 150\n",
    "train_data, val_data, test_data = np.split(data, [train_size, train_size+val_size])\n",
    "print(\"Shape of train_data: \", train_data.shape)\n",
    "print(\"Shape of val_data: \", val_data.shape)\n",
    "print(\"Shape of test_data: \", test_data.shape)"
   ]
  },
  {
   "cell_type": "code",
   "execution_count": 3,
   "metadata": {},
   "outputs": [],
   "source": [
    "from dataset import SheetletCellDataset\n",
    "from torchvision import transforms\n",
    "\n",
    "transform = transforms.Compose([\n",
    "        transforms.Pad(padding=20,padding_mode=\"reflect\"),\n",
    "        transforms.RandomHorizontalFlip(),\n",
    "        transforms.RandomVerticalFlip(),\n",
    "        transforms.RandomRotation(10,fill=0),\n",
    "        transforms.RandomAffine(0, translate=(0.05,0.05), scale=(0.9,1.15), shear=2),    \n",
    "    ])\n",
    "\n",
    "train_dataset = SheetletCellDataset(train_data, transform=transform)\n",
    "val_dataset = SheetletCellDataset(val_data)\n",
    "test_dataset = SheetletCellDataset(test_data)"
   ]
  },
  {
   "cell_type": "code",
   "execution_count": null,
   "metadata": {},
   "outputs": [],
   "source": [
    "from torch.utils.data import DataLoader\n",
    "\n",
    "train_dataloader = DataLoader(train_dataset, batch_size=32, shuffle=True, num_workers=4,pin_memory=True)\n",
    "val_dataloader = DataLoader(val_dataset, batch_size=32, shuffle=True, num_workers=4,pin_memory=True)\n",
    "test_dataloader = DataLoader(test_dataset, batch_size=32, shuffle=True, num_workers=4,pin_memory=True)"
   ]
  },
  {
   "cell_type": "code",
   "execution_count": null,
   "metadata": {},
   "outputs": [],
   "source": []
  }
 ],
 "metadata": {
  "kernelspec": {
   "display_name": "pytorch_venv",
   "language": "python",
   "name": "python3"
  },
  "language_info": {
   "codemirror_mode": {
    "name": "ipython",
    "version": 3
   },
   "file_extension": ".py",
   "mimetype": "text/x-python",
   "name": "python",
   "nbconvert_exporter": "python",
   "pygments_lexer": "ipython3",
   "version": "3.10.13"
  }
 },
 "nbformat": 4,
 "nbformat_minor": 2
}
